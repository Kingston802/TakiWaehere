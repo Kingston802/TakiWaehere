{
  "nbformat": 4,
  "nbformat_minor": 0,
  "metadata": {
    "colab": {
      "name": "TakiWaehere.ipynb",
      "provenance": [],
      "include_colab_link": true
    },
    "kernelspec": {
      "name": "python3",
      "display_name": "Python 3"
    },
    "language_info": {
      "name": "python"
    }
  },
  "cells": [
    {
      "cell_type": "markdown",
      "metadata": {
        "id": "view-in-github",
        "colab_type": "text"
      },
      "source": [
        "<a href=\"https://colab.research.google.com/github/Kingston802/TakiWaehere/blob/main/TakiWaehere.ipynb\" target=\"_parent\"><img src=\"https://colab.research.google.com/assets/colab-badge.svg\" alt=\"Open In Colab\"/></a>"
      ]
    },
    {
      "cell_type": "code",
      "metadata": {
        "id": "_TYFifcCUFaC"
      },
      "source": [
        ""
      ],
      "execution_count": null,
      "outputs": []
    },
    {
      "cell_type": "markdown",
      "metadata": {
        "id": "KlSrSkNEUXNN"
      },
      "source": [
        "1 - Data Collection\n",
        "\n",
        "2 - Data Preparation\n",
        "\n",
        "- Wrangle data and prepare it for training\n",
        "- Clean that which may require it (remove duplicates, correct errors, deal with missing values, normalization, data type conversions, etc.)\n",
        "- Randomize data, which erases the effects of the particular order in which we collected and/or otherwise prepared our data\n",
        "-Visualize data to help detect relevant relationships between variables or class imbalances (bias alert!), or perform other exploratory analysis\n",
        "-Split into training and evaluation sets\n",
        " \n",
        "3 - Choose a Model\n",
        " \n",
        "4 - Train the Model\n",
        "\n",
        "The goal of training is to answer a question or make a prediction correctly as often as possible.\n",
        "Linear regression example: algorithm would need to learn values for m (or W) and b (x is input, y is output)\n",
        "Each iteration of process is a training step\n",
        "\n",
        "5 - Evaluate the Model\n",
        "\n",
        "- Uses some metric or combination of metrics to \"measure\" objective performance of model\n",
        "- Test the model against previously unseen data\n",
        "\n",
        "This unseen data is meant to be somewhat representative of model performance in the real world, but still helps tune the model (as opposed to test data, which does not)\n",
        "\n",
        "- Good train/eval split? 80/20, 70/30, or similar, depending on domain, data availability, dataset particulars, etc.\n",
        " \n",
        "6 - Parameter Tuning\n",
        "\n",
        "Tune model parameters for improved performance\n",
        "\n",
        "Simple model hyperparameters may include: number of training steps, learning rate, initialization values and distribution, etc.\n",
        " \n",
        "7 - Make Predictions\n",
        "\n",
        "Using further (test set) data which have, until this point, been withheld from the model (and for which class labels are known), are used to test the model; a better approximation of how the model will perform in the real world"
      ]
    }
  ]
}